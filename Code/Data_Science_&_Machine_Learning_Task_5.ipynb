{
  "nbformat": 4,
  "nbformat_minor": 0,
  "metadata": {
    "colab": {
      "provenance": []
    },
    "kernelspec": {
      "name": "python3",
      "display_name": "Python 3"
    },
    "language_info": {
      "name": "python"
    }
  },
  "cells": [
    {
      "cell_type": "code",
      "execution_count": null,
      "metadata": {
        "colab": {
          "base_uri": "https://localhost:8080/"
        },
        "id": "P-YxhOYuZwTU",
        "outputId": "8a047f55-f7eb-4514-be61-ad10f2242bfa"
      },
      "outputs": [
        {
          "output_type": "stream",
          "name": "stdout",
          "text": [
            "Enter the number of variables (e.g., 3 for three equations): 3\n",
            "Enter the coefficients of the equations (row by row) and constants:\n",
            "Equation 1 (separate coefficients by space, constant last): 2 3 1 1\n",
            "Equation 2 (separate coefficients by space, constant last): 4 1 -2 2\n",
            "Equation 3 (separate coefficients by space, constant last): -6 2 3 3\n",
            "\n",
            "Solution:\n",
            "Variable 1 = -1.00\n",
            "Variable 2 = 1.71\n",
            "Variable 3 = -2.14\n"
          ]
        }
      ],
      "source": [
        "import numpy as np\n",
        "\n",
        "def get_coefficients_and_constants():\n",
        "    n = int(input(\"Enter the number of variables (e.g., 3 for three equations): \"))\n",
        "    print(f\"Enter the coefficients of the equations (row by row) and constants:\")\n",
        "\n",
        "    coefficients = []\n",
        "    constants = []\n",
        "\n",
        "    for i in range(n):\n",
        "        row = list(map(float, input(f\"Equation {i + 1} (separate coefficients by space, constant last): \").split()))\n",
        "        coefficients.append(row[:-1])  # All but the last value are coefficients\n",
        "        constants.append(row[-1])     # The last value is the constant term\n",
        "\n",
        "    return np.array(coefficients), np.array(constants)\n",
        "\n",
        "# Get user input\n",
        "A, B = get_coefficients_and_constants()\n",
        "\n",
        "# Solve the system of equations\n",
        "try:\n",
        "    solution = np.linalg.solve(A, B)\n",
        "    print(\"\\nSolution:\")\n",
        "    for i, val in enumerate(solution, start=1):\n",
        "        print(f\"Variable {i} = {val:.2f}\")\n",
        "except np.linalg.LinAlgError as e:\n",
        "    print(\"\\nError:\", e)\n",
        "    print(\"The system may be singular or have no unique solution.\")"
      ]
    },
    {
      "cell_type": "code",
      "source": [],
      "metadata": {
        "id": "v8BCiiUPZzcd"
      },
      "execution_count": null,
      "outputs": []
    }
  ]
}